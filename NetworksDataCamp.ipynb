{
 "cells": [
  {
   "cell_type": "markdown",
   "metadata": {},
   "source": [
    "### Networks\n",
    "\n",
    "By modeling data into networks we can get important insights such as:\n",
    "* Important entities: what nodes influence a network\n",
    "* Pathfinding: most efficient path to node\n",
    "* Clustering: finding communities"
   ]
  },
  {
   "cell_type": "markdown",
   "metadata": {},
   "source": [
    "**Network Measurements**\n",
    "\n",
    "Three main groups:\n",
    "\n",
    "1. **Network Connection**\\\n",
    "= the ability to move from one node to another \\\n",
    "= the ratio between route distance and geodesic distance \\\n",
    "\n",
    "Can be calculated locally or globally\n",
    "\n",
    "a. ***Transitivity***\\\n",
    "= refers to the extent to which a relation between two nodes is transitive \\\n",
    "= in social networks it reflects the friend-of-friend concept\\\n",
    "\n",
    "sometimes it is used as synonym of whole nentwork clustering coefficient\\\n",
    "\n",
    "$$ Transitivity = {3 *No. of triangles \\over No. connected triples} $$\n",
    "\n",
    "- if T= 1 the newtowrk contains all possible edges /\n",
    "- in real social netwroks, a value between 0.3 and 0.6 is common for the transitivity index /\n",
    "\n",
    "\n",
    "- closely related to clustering coefficient (a measure of how much nodes tend to form dense subgraphs)\n",
    "\n",
    "b. ***Multiplexity***\n",
    "\n",
    "* edges can have one dimension <mark> uniplex </mark> or multiple <mark> multiplex </mark>\n",
    "\n",
    "c. ***Reciprocity***\n",
    "\n",
    "shows directionality of edges\n",
    "\n",
    "2. **Network Distribution**\n",
    "\n",
    "a. ***Distance between two nodes***\n",
    "\n",
    "- critical for implementations such as grpah clustering, outlier detection\\\n",
    "= calculates the no. of edges between any pair of nodes in a network\\\n",
    "- can be used to calculate <mark> node eccentricity </mark> (max distances from a given node to all other nodes in a network)\n",
    "\n",
    "\n",
    "b. ***Degree Centrality***\n",
    "\n",
    "- the importance of a node is determined by how many nodes it is connected to\n",
    "- the larger th eno of adjacent nodes, the more important the node\n",
    "- it is a local measure\n",
    "- actors with high degree of centrality serve as *hubs* and *major information channels*\n",
    "\n",
    "c. ***Closeness Centrality***\n",
    "\n",
    "= the sum of geodesic distances of a note to all other nodes in the network\\\n",
    "- it computes the length of paths from one actor to other actors in the network\n",
    "- in social networks, the information dissmeination is limited by what is called *horizon of observability* which states that individuals have almost no sight into what is going on after two steps\n",
    "- as it is based on distance between nodes, it can be considered the inverse of centrality because large values refer to lower centrality, and small values refer to high centrality\n",
    "- (normalized) value stands between 0 and 1. The higher the no (closer to 1) mean lower average distance while low numbers mean insignificant closeness(higher average distance)\n",
    "\n",
    "d. ***Betweenness Centrality***\n",
    "- shows which nodes are likely pathways of information \n",
    "- can be used to determine how a graph will break apart if nodes are removed\n",
    "- used to identify those that act as bridges between two or more graph segments that otherwise would not be able to communicate with eachother\n",
    "\n",
    "= the betweenness centrality of node *i* is defined as the <mark> number of shortest paths between pairs of nodes that pass through node *i*\n",
    "\n",
    "RELEVANT RESOURCE: https://visiblenetworklabs.com/2021/04/16/understanding-network-centrality/\n",
    "\n",
    "e. ***Eigenvector Centrality***\n",
    "\n",
    "- <mark> measure of the influence of a node in a network </mark>\n",
    "- describes the centrality of a person with regard to the global structure of the network\n",
    "- assigns relative scores to all nodes in the network based on the concept that connections to nodes with high scoring contribute more to the score of the node in question than connections to nodes with low scoring\n",
    "- to calculate eigenvector centrality, we calculate the eigencompotition of the pairwise adjiency matrix followed by choosing the eigenvector associated with the largest eigenvalue\n",
    "\n",
    "3. Network Segmentation\n"
   ]
  },
  {
   "cell_type": "markdown",
   "metadata": {},
   "source": []
  }
 ],
 "metadata": {
  "kernelspec": {
   "display_name": "Python 3.10.4 ('CodeBase')",
   "language": "python",
   "name": "python3"
  },
  "language_info": {
   "codemirror_mode": {
    "name": "ipython",
    "version": 3
   },
   "file_extension": ".py",
   "mimetype": "text/x-python",
   "name": "python",
   "nbconvert_exporter": "python",
   "pygments_lexer": "ipython3",
   "version": "3.10.4"
  },
  "orig_nbformat": 4,
  "vscode": {
   "interpreter": {
    "hash": "2b626e21ead191b3db0e87a4603b3e94e198395ed9547c98ae8f08e151842829"
   }
  }
 },
 "nbformat": 4,
 "nbformat_minor": 2
}
