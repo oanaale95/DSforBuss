{
 "cells": [
  {
   "cell_type": "code",
   "execution_count": 19,
   "metadata": {},
   "outputs": [],
   "source": [
    "import pandas as pd\n",
    "import numpy as np\n",
    "import plotly.express as px\n",
    "import time\n",
    "import datetime\n",
    "import nbformat"
   ]
  },
  {
   "cell_type": "code",
   "execution_count": 2,
   "metadata": {},
   "outputs": [],
   "source": [
    "#Load data\n",
    "trips_df = pd.read_csv('https://sds-aau.github.io/SDS-master/M1/data/trips.csv', index_col=0)\n",
    "people_df = pd.read_csv('https://sds-aau.github.io/SDS-master/M1/data/people.csv', index_col = 0)\n",
    "country_df = pd.read_csv('https://sds-aau.github.io/SDS-master/M1/data/countrylist.csv', index_col = 0)"
   ]
  },
  {
   "cell_type": "code",
   "execution_count": 3,
   "metadata": {},
   "outputs": [
    {
     "data": {
      "text/html": [
       "<div>\n",
       "<style scoped>\n",
       "    .dataframe tbody tr th:only-of-type {\n",
       "        vertical-align: middle;\n",
       "    }\n",
       "\n",
       "    .dataframe tbody tr th {\n",
       "        vertical-align: top;\n",
       "    }\n",
       "\n",
       "    .dataframe thead th {\n",
       "        text-align: right;\n",
       "    }\n",
       "</style>\n",
       "<table border=\"1\" class=\"dataframe\">\n",
       "  <thead>\n",
       "    <tr style=\"text-align: right;\">\n",
       "      <th></th>\n",
       "      <th>username</th>\n",
       "      <th>country</th>\n",
       "      <th>country_code</th>\n",
       "      <th>country_slug</th>\n",
       "      <th>date_end</th>\n",
       "      <th>date_start</th>\n",
       "      <th>latitude</th>\n",
       "      <th>longitude</th>\n",
       "      <th>place</th>\n",
       "      <th>place_slug</th>\n",
       "    </tr>\n",
       "  </thead>\n",
       "  <tbody>\n",
       "    <tr>\n",
       "      <th>0</th>\n",
       "      <td>@lewellenmichael</td>\n",
       "      <td>Mexico</td>\n",
       "      <td>MX</td>\n",
       "      <td>mexico</td>\n",
       "      <td>2018-06-15</td>\n",
       "      <td>2018-06-04</td>\n",
       "      <td>21</td>\n",
       "      <td>-101</td>\n",
       "      <td>Guanajuato</td>\n",
       "      <td>mexico</td>\n",
       "    </tr>\n",
       "    <tr>\n",
       "      <th>1</th>\n",
       "      <td>@lewellenmichael</td>\n",
       "      <td>Mexico</td>\n",
       "      <td>MX</td>\n",
       "      <td>mexico</td>\n",
       "      <td>2018-06-03</td>\n",
       "      <td>2018-05-31</td>\n",
       "      <td>19</td>\n",
       "      <td>-99</td>\n",
       "      <td>Mexico City</td>\n",
       "      <td>mexico-city-mexico</td>\n",
       "    </tr>\n",
       "    <tr>\n",
       "      <th>2</th>\n",
       "      <td>@lewellenmichael</td>\n",
       "      <td>Mexico</td>\n",
       "      <td>MX</td>\n",
       "      <td>mexico</td>\n",
       "      <td>2017-11-05</td>\n",
       "      <td>2017-11-01</td>\n",
       "      <td>21</td>\n",
       "      <td>-86</td>\n",
       "      <td>Cancun</td>\n",
       "      <td>cancun-mexico</td>\n",
       "    </tr>\n",
       "    <tr>\n",
       "      <th>3</th>\n",
       "      <td>@lewellenmichael</td>\n",
       "      <td>Jordan</td>\n",
       "      <td>JO</td>\n",
       "      <td>jordan</td>\n",
       "      <td>2017-08-07</td>\n",
       "      <td>2017-07-24</td>\n",
       "      <td>31</td>\n",
       "      <td>35</td>\n",
       "      <td>Amman</td>\n",
       "      <td>amman-jordan</td>\n",
       "    </tr>\n",
       "    <tr>\n",
       "      <th>4</th>\n",
       "      <td>@waylandchin</td>\n",
       "      <td>China</td>\n",
       "      <td>CN</td>\n",
       "      <td>china</td>\n",
       "      <td>2017-03-18</td>\n",
       "      <td>2017-02-17</td>\n",
       "      <td>40</td>\n",
       "      <td>122</td>\n",
       "      <td>Yingkou</td>\n",
       "      <td>china</td>\n",
       "    </tr>\n",
       "    <tr>\n",
       "      <th>...</th>\n",
       "      <td>...</td>\n",
       "      <td>...</td>\n",
       "      <td>...</td>\n",
       "      <td>...</td>\n",
       "      <td>...</td>\n",
       "      <td>...</td>\n",
       "      <td>...</td>\n",
       "      <td>...</td>\n",
       "      <td>...</td>\n",
       "      <td>...</td>\n",
       "    </tr>\n",
       "    <tr>\n",
       "      <th>46505</th>\n",
       "      <td>@antonioc</td>\n",
       "      <td>Cuba</td>\n",
       "      <td>CU</td>\n",
       "      <td>cuba</td>\n",
       "      <td>2016-05-25</td>\n",
       "      <td>2016-05-19</td>\n",
       "      <td>21</td>\n",
       "      <td>-77</td>\n",
       "      <td>Cuba</td>\n",
       "      <td>cuba</td>\n",
       "    </tr>\n",
       "    <tr>\n",
       "      <th>46506</th>\n",
       "      <td>@antonioc</td>\n",
       "      <td>Costa Rica</td>\n",
       "      <td>CR</td>\n",
       "      <td>costa-rica</td>\n",
       "      <td>2016-05-18</td>\n",
       "      <td>2016-04-28</td>\n",
       "      <td>9</td>\n",
       "      <td>-83</td>\n",
       "      <td>Costa Rica</td>\n",
       "      <td>costa-rica</td>\n",
       "    </tr>\n",
       "    <tr>\n",
       "      <th>46507</th>\n",
       "      <td>@antonioc</td>\n",
       "      <td>United States</td>\n",
       "      <td>US</td>\n",
       "      <td>united-states</td>\n",
       "      <td>2016-04-26</td>\n",
       "      <td>2016-04-04</td>\n",
       "      <td>39</td>\n",
       "      <td>-75</td>\n",
       "      <td>Philadelphia</td>\n",
       "      <td>philadelphia-pa-united-states</td>\n",
       "    </tr>\n",
       "    <tr>\n",
       "      <th>46508</th>\n",
       "      <td>@jrearden</td>\n",
       "      <td>United States</td>\n",
       "      <td>US</td>\n",
       "      <td>united-states</td>\n",
       "      <td>2018-05-19</td>\n",
       "      <td>2018-05-12</td>\n",
       "      <td>30</td>\n",
       "      <td>-86</td>\n",
       "      <td>Destin</td>\n",
       "      <td>united-states</td>\n",
       "    </tr>\n",
       "    <tr>\n",
       "      <th>46509</th>\n",
       "      <td>@kschroeder</td>\n",
       "      <td>Argentina</td>\n",
       "      <td>AR</td>\n",
       "      <td>argentina</td>\n",
       "      <td>2018-02-08</td>\n",
       "      <td>2018-01-12</td>\n",
       "      <td>-38</td>\n",
       "      <td>-57</td>\n",
       "      <td>Mar del Plata</td>\n",
       "      <td>mar-del-plata-argentina</td>\n",
       "    </tr>\n",
       "  </tbody>\n",
       "</table>\n",
       "<p>46510 rows × 10 columns</p>\n",
       "</div>"
      ],
      "text/plain": [
       "               username        country country_code   country_slug  \\\n",
       "0      @lewellenmichael         Mexico           MX         mexico   \n",
       "1      @lewellenmichael         Mexico           MX         mexico   \n",
       "2      @lewellenmichael         Mexico           MX         mexico   \n",
       "3      @lewellenmichael         Jordan           JO         jordan   \n",
       "4          @waylandchin          China           CN          china   \n",
       "...                 ...            ...          ...            ...   \n",
       "46505         @antonioc           Cuba           CU           cuba   \n",
       "46506         @antonioc     Costa Rica           CR     costa-rica   \n",
       "46507         @antonioc  United States           US  united-states   \n",
       "46508         @jrearden  United States           US  united-states   \n",
       "46509       @kschroeder      Argentina           AR      argentina   \n",
       "\n",
       "         date_end  date_start  latitude  longitude          place  \\\n",
       "0      2018-06-15  2018-06-04        21       -101     Guanajuato   \n",
       "1      2018-06-03  2018-05-31        19        -99    Mexico City   \n",
       "2      2017-11-05  2017-11-01        21        -86         Cancun   \n",
       "3      2017-08-07  2017-07-24        31         35          Amman   \n",
       "4      2017-03-18  2017-02-17        40        122        Yingkou   \n",
       "...           ...         ...       ...        ...            ...   \n",
       "46505  2016-05-25  2016-05-19        21        -77           Cuba   \n",
       "46506  2016-05-18  2016-04-28         9        -83     Costa Rica   \n",
       "46507  2016-04-26  2016-04-04        39        -75   Philadelphia   \n",
       "46508  2018-05-19  2018-05-12        30        -86         Destin   \n",
       "46509  2018-02-08  2018-01-12       -38        -57  Mar del Plata   \n",
       "\n",
       "                          place_slug  \n",
       "0                             mexico  \n",
       "1                 mexico-city-mexico  \n",
       "2                      cancun-mexico  \n",
       "3                       amman-jordan  \n",
       "4                              china  \n",
       "...                              ...  \n",
       "46505                           cuba  \n",
       "46506                     costa-rica  \n",
       "46507  philadelphia-pa-united-states  \n",
       "46508                  united-states  \n",
       "46509        mar-del-plata-argentina  \n",
       "\n",
       "[46510 rows x 10 columns]"
      ]
     },
     "execution_count": 3,
     "metadata": {},
     "output_type": "execute_result"
    }
   ],
   "source": [
    "## check rows in col that are na\n",
    "#trips_df[trips_df['date_end'].isna()]\n",
    "## example of rows to see if they changed\n",
    "#trips_df.loc[[638,640]]\n",
    "trips_df"
   ]
  },
  {
   "cell_type": "code",
   "execution_count": 4,
   "metadata": {},
   "outputs": [
    {
     "data": {
      "text/plain": [
       "username        False\n",
       "country          True\n",
       "country_code     True\n",
       "country_slug     True\n",
       "date_end         True\n",
       "date_start      False\n",
       "latitude        False\n",
       "longitude       False\n",
       "place           False\n",
       "place_slug       True\n",
       "dtype: bool"
      ]
     },
     "execution_count": 4,
     "metadata": {},
     "output_type": "execute_result"
    }
   ],
   "source": [
    "# when checking type of column ==> type object - bc numerous value types\n",
    "trips_df['date_end'].dtype\n",
    "# if checking which columns contain nan value shows date_end has nan\n",
    "trips_df.isna().any()"
   ]
  },
  {
   "cell_type": "code",
   "execution_count": 5,
   "metadata": {},
   "outputs": [],
   "source": [
    "#change cols to datetime format and coerce so NaT is added for na values\n",
    "date_cols = [col for col in trips_df.columns if col.startswith('date')]\n",
    "for col in date_cols:\n",
    "    trips_df[col]= pd.to_datetime(trips_df[col],format='%Y-%m-%d', errors='coerce')"
   ]
  },
  {
   "cell_type": "code",
   "execution_count": 6,
   "metadata": {},
   "outputs": [
    {
     "data": {
      "text/plain": [
       "dtype('<M8[ns]')"
      ]
     },
     "execution_count": 6,
     "metadata": {},
     "output_type": "execute_result"
    }
   ],
   "source": [
    "#check type of data after casting\n",
    "trips_df['date_start'].dtype"
   ]
  },
  {
   "cell_type": "code",
   "execution_count": 7,
   "metadata": {},
   "outputs": [],
   "source": [
    "#get trip duration \n",
    "trips_df['trip_duration'] = (trips_df['date_end'] - trips_df['date_start']).dt.days\n"
   ]
  },
  {
   "cell_type": "code",
   "execution_count": 8,
   "metadata": {},
   "outputs": [],
   "source": [
    "trips_df = trips_df[trips_df['trip_duration'] >1]"
   ]
  },
  {
   "cell_type": "code",
   "execution_count": 12,
   "metadata": {},
   "outputs": [
    {
     "data": {
      "text/plain": [
       "count    40684.000000\n",
       "mean        58.225740\n",
       "std        692.162081\n",
       "min          2.000000\n",
       "25%          4.000000\n",
       "50%          8.000000\n",
       "75%         28.000000\n",
       "max      74633.000000\n",
       "Name: trip_duration, dtype: float64"
      ]
     },
     "execution_count": 12,
     "metadata": {},
     "output_type": "execute_result"
    }
   ],
   "source": [
    "trips_df['trip_duration'].describe()\n",
    "# bc mean is sensitive to ouliers and max is74633, while mean is so small (58) ==> outliers\n"
   ]
  },
  {
   "cell_type": "code",
   "execution_count": 20,
   "metadata": {},
   "outputs": [
    {
     "ename": "ValueError",
     "evalue": "Mime type rendering requires nbformat>=4.2.0 but it is not installed",
     "output_type": "error",
     "traceback": [
      "\u001b[1;31m---------------------------------------------------------------------------\u001b[0m",
      "\u001b[1;31mValueError\u001b[0m                                Traceback (most recent call last)",
      "\u001b[1;32me:\\MSC24\\DSforBussApplication\\DSforBuss\\exercise1.ipynb Cell 10\u001b[0m in \u001b[0;36m<cell line: 3>\u001b[1;34m()\u001b[0m\n\u001b[0;32m      <a href='vscode-notebook-cell:/e%3A/MSC24/DSforBussApplication/DSforBuss/exercise1.ipynb#X15sZmlsZQ%3D%3D?line=0'>1</a>\u001b[0m fig_hst \u001b[39m=\u001b[39m px\u001b[39m.\u001b[39mhistogram(trips_df, x\u001b[39m=\u001b[39m\u001b[39m'\u001b[39m\u001b[39mtrip_duration\u001b[39m\u001b[39m'\u001b[39m)\n\u001b[1;32m----> <a href='vscode-notebook-cell:/e%3A/MSC24/DSforBussApplication/DSforBuss/exercise1.ipynb#X15sZmlsZQ%3D%3D?line=2'>3</a>\u001b[0m fig_hst\u001b[39m.\u001b[39;49mshow()\n",
      "File \u001b[1;32me:\\Anaconda3\\envs\\CodeBase\\lib\\site-packages\\plotly\\basedatatypes.py:3398\u001b[0m, in \u001b[0;36mBaseFigure.show\u001b[1;34m(self, *args, **kwargs)\u001b[0m\n\u001b[0;32m   3365\u001b[0m \u001b[39m\"\"\"\u001b[39;00m\n\u001b[0;32m   3366\u001b[0m \u001b[39mShow a figure using either the default renderer(s) or the renderer(s)\u001b[39;00m\n\u001b[0;32m   3367\u001b[0m \u001b[39mspecified by the renderer argument\u001b[39;00m\n\u001b[1;32m   (...)\u001b[0m\n\u001b[0;32m   3394\u001b[0m \u001b[39mNone\u001b[39;00m\n\u001b[0;32m   3395\u001b[0m \u001b[39m\"\"\"\u001b[39;00m\n\u001b[0;32m   3396\u001b[0m \u001b[39mimport\u001b[39;00m \u001b[39mplotly\u001b[39;00m\u001b[39m.\u001b[39;00m\u001b[39mio\u001b[39;00m \u001b[39mas\u001b[39;00m \u001b[39mpio\u001b[39;00m\n\u001b[1;32m-> 3398\u001b[0m \u001b[39mreturn\u001b[39;00m pio\u001b[39m.\u001b[39mshow(\u001b[39mself\u001b[39m, \u001b[39m*\u001b[39margs, \u001b[39m*\u001b[39m\u001b[39m*\u001b[39mkwargs)\n",
      "File \u001b[1;32me:\\Anaconda3\\envs\\CodeBase\\lib\\site-packages\\plotly\\io\\_renderers.py:396\u001b[0m, in \u001b[0;36mshow\u001b[1;34m(fig, renderer, validate, **kwargs)\u001b[0m\n\u001b[0;32m    391\u001b[0m         \u001b[39mraise\u001b[39;00m \u001b[39mValueError\u001b[39;00m(\n\u001b[0;32m    392\u001b[0m             \u001b[39m\"\u001b[39m\u001b[39mMime type rendering requires ipython but it is not installed\u001b[39m\u001b[39m\"\u001b[39m\n\u001b[0;32m    393\u001b[0m         )\n\u001b[0;32m    395\u001b[0m     \u001b[39mif\u001b[39;00m \u001b[39mnot\u001b[39;00m nbformat \u001b[39mor\u001b[39;00m LooseVersion(nbformat\u001b[39m.\u001b[39m__version__) \u001b[39m<\u001b[39m LooseVersion(\u001b[39m\"\u001b[39m\u001b[39m4.2.0\u001b[39m\u001b[39m\"\u001b[39m):\n\u001b[1;32m--> 396\u001b[0m         \u001b[39mraise\u001b[39;00m \u001b[39mValueError\u001b[39;00m(\n\u001b[0;32m    397\u001b[0m             \u001b[39m\"\u001b[39m\u001b[39mMime type rendering requires nbformat>=4.2.0 but it is not installed\u001b[39m\u001b[39m\"\u001b[39m\n\u001b[0;32m    398\u001b[0m         )\n\u001b[0;32m    400\u001b[0m     ipython_display\u001b[39m.\u001b[39mdisplay(bundle, raw\u001b[39m=\u001b[39m\u001b[39mTrue\u001b[39;00m)\n\u001b[0;32m    402\u001b[0m \u001b[39m# external renderers\u001b[39;00m\n",
      "\u001b[1;31mValueError\u001b[0m: Mime type rendering requires nbformat>=4.2.0 but it is not installed"
     ]
    }
   ],
   "source": [
    "fig_hst = px.histogram(trips_df, x='trip_duration')\n",
    "\n",
    "fig_hst.show()"
   ]
  },
  {
   "cell_type": "code",
   "execution_count": null,
   "metadata": {},
   "outputs": [],
   "source": []
  }
 ],
 "metadata": {
  "kernelspec": {
   "display_name": "Python 3.9.12 ('CodeBase')",
   "language": "python",
   "name": "python3"
  },
  "language_info": {
   "codemirror_mode": {
    "name": "ipython",
    "version": 3
   },
   "file_extension": ".py",
   "mimetype": "text/x-python",
   "name": "python",
   "nbconvert_exporter": "python",
   "pygments_lexer": "ipython3",
   "version": "3.9.12"
  },
  "orig_nbformat": 4,
  "vscode": {
   "interpreter": {
    "hash": "a824df9dcf75dde4fcf020c00fce4bdb85c8fba72277571c0816605386822c12"
   }
  }
 },
 "nbformat": 4,
 "nbformat_minor": 2
}
